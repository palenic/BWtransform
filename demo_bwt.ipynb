{
 "cells": [
  {
   "cell_type": "markdown",
   "metadata": {},
   "source": [
    "# Burrows-Wheeler transform for nucleotide or amino acid sequences"
   ]
  },
  {
   "cell_type": "markdown",
   "metadata": {},
   "source": [
    "The Burrows-Wheeler transform is a very popular string/sequence manipulation algorithm at the basis of many bioinformatics tools as well as compression algorithms. The `paleni_bwt` module provides \n",
    "1. A function to compute the BW transform from an input sequence `bwTransform(x)`\n",
    "2. A function to invert the BW transform from an input transformed sequence `bwInverse(y)`\n",
    "\n",
    "Both functions check input validity and throw either a TypeError or a customized ValueError exception, TerminatorError. "
   ]
  },
  {
   "cell_type": "markdown",
   "metadata": {},
   "source": [
    "The compressed archive includes the module itself, a module named test_paleni_bwt.py with unit tests developed with the `unittest` package and this notebook, in which we provide a test of functionalities and a brief explanation of the algorithm."
   ]
  },
  {
   "cell_type": "markdown",
   "metadata": {},
   "source": [
    "## 1. Importing the module and documentation "
   ]
  },
  {
   "cell_type": "code",
   "execution_count": 1,
   "metadata": {},
   "outputs": [],
   "source": [
    "import paleni_bwt as bwt\n",
    "import numpy as np"
   ]
  },
  {
   "cell_type": "code",
   "execution_count": 2,
   "metadata": {},
   "outputs": [],
   "source": [
    "?bwt"
   ]
  },
  {
   "cell_type": "code",
   "execution_count": 3,
   "metadata": {},
   "outputs": [],
   "source": [
    "?bwt.bwTransform"
   ]
  },
  {
   "cell_type": "code",
   "execution_count": 4,
   "metadata": {},
   "outputs": [],
   "source": [
    "?bwt.bwInverse"
   ]
  },
  {
   "cell_type": "markdown",
   "metadata": {},
   "source": [
    "## 2. Design and development \n",
    "### 2.1 Compression"
   ]
  },
  {
   "cell_type": "markdown",
   "metadata": {},
   "source": [
    "Implementation of the Burrows-Wheeler compression transformation, \n",
    "originally described in <a href=\"#1\">[1]</a>, via construction of the suffix array, \n",
    "as explained in section 2.2 of <a href=\"#2\">[2]</a>.\n",
    "The BWT of a string is obtained by definining a matrix of sorted \n",
    "rotations of the string after adding a terminator character; the last column of this matrix is the transform. In the \n",
    "figure below, googol becomes __lo\\$oogg__.\n",
    "\n",
    "<img src=\"https://www.ncbi.nlm.nih.gov/pmc/articles/PMC2705234/bin/btp324f2.jpg\" width=\"350px\">"
   ]
  },
  {
   "cell_type": "markdown",
   "metadata": {},
   "source": [
    "Another way to obtain the transform is by deriving the suffix array of the string, which is an array containing the start position of all suffixes sorted lexicographically ($S[i]$ in the figure above). The BWT of X is then defined as:<br/><br/>\n",
    "\n",
    "<div align=\"left\"> $$ B[i] = \\begin{cases} $, & \\mbox{if } S[i] = 0 \\\\ X[S[i]-1], & \\mbox{otherwise} \\end{cases} $$ </div>\n",
    "\n",
    "Which corresponds to the last character of each row."
   ]
  },
  {
   "cell_type": "markdown",
   "metadata": {},
   "source": [
    "This package implements the suffix array approach to compute the transform using `numpy` arrays. The suffixes are created with list comprehension and the suffix array is derived with `numpy.argsort`. The array of indices of `B[i]` is computed with `numpy.where` from the suffix array."
   ]
  },
  {
   "cell_type": "markdown",
   "metadata": {},
   "source": [
    "### 2.1 Decompression"
   ]
  },
  {
   "cell_type": "markdown",
   "metadata": {},
   "source": [
    "Implementation of the Burrows-Wheeler decompression as described \n",
    "in <a href=\"#1\">[1]</a>, section 4.2. The transformed string y is the last column $L$ of\n",
    "the sorted matrix of rotations of the original string ($S$). We can \n",
    "obtain the first column $F$ by sorting lexicographically the characters \n",
    "in $L$. Given how the matrix is built:\n",
    "\n",
    "<img src=\"./antitrasf.png\" width=\"500px\" align=\"right\" style=\"margin:10px\">\n",
    "\n",
    "1. $\\forall{i} = 0,...,N-1$, $L[i]$ cyclicly precedes $F[i]$ in $S$ \n",
    "\n",
    "To invert the transformation, we need to find a vector $T$ that describes \n",
    "the correspondence between each character in $L$ and $F$ such that: \n",
    "2. $F[T[j]]=L[j]$\n",
    "\n",
    "Substituting $i=T[j]$, from 1. we obtain:\n",
    "3. $L[T[j]]$ precedes $F[T[j]]$  \n",
    "\n",
    "From 2. we obtain:\n",
    "4. $L[T[j]]$ cyclicly precedes $L[j]$\n",
    "\n",
    "Starting from the terminator character $\\$ = L[i]$, which is the last character of $S$, $L[T[i]]$ precedes it; then, substituting $j = T[i]$, $L[T[j]]$ precedes $L[j]$, and so on; this way, we reconstruct \n",
    "    $S$ back to front. See figure on the right."
   ]
  },
  {
   "cell_type": "markdown",
   "metadata": {},
   "source": [
    "The function builds an array $P[N]$ and a dictionary $C$. \n",
    "- $C[ch]$ is the \n",
    "    total number of instances in $L$ of characters \n",
    "    preceding $ch$ in the alphabet\n",
    "- $P[i]$ is the number of instances of \n",
    "    character $L[i]$ in the prefix $L[0:i]$\n",
    "\n",
    "$T$ is defined as $T[i]=P[i]+C[L[i]]$. In fact, the match of $L[i]$ in $F$ can be found without building F by summing up\n",
    "1. how many characters in total precede $L[i]$ in $L$ (stored in $C[L[i]]$) \n",
    "2. how many of the same character precede it in $L[0:i]$ (stored in $P[i]$)"
   ]
  },
  {
   "cell_type": "markdown",
   "metadata": {},
   "source": [
    "The function finds the alphabet via `numpy.unique` and derives `P` and `C` using the inbuilt `string.count` function to count characters. Starting from the terminator `y[i]`, it finds the index of the preceding character, `T[i]`; then finds the index of the character preceding `y[T[i]]`, and so on. The indexes are stored in the array `decoded_indexes` in order, such that `S = [y[i] for i in decoded_indexes]`. The terminator is omitted from the output."
   ]
  },
  {
   "cell_type": "markdown",
   "metadata": {},
   "source": [
    "## 3. Test of functionalities"
   ]
  },
  {
   "cell_type": "markdown",
   "metadata": {},
   "source": [
    "We test the package on short words to check visually that they work as intended."
   ]
  },
  {
   "cell_type": "code",
   "execution_count": 6,
   "metadata": {},
   "outputs": [
    {
     "name": "stdout",
     "output_type": "stream",
     "text": [
      "transform of 'googol': lo$oogg\n",
      "transform of 'acctg': g$actc\n"
     ]
    }
   ],
   "source": [
    "print(\"transform of 'googol':\",bwt.bwTransform(\"googol\"))\n",
    "print(\"transform of 'acctg':\",bwt.bwTransform(\"acctg\"))"
   ]
  },
  {
   "cell_type": "code",
   "execution_count": 7,
   "metadata": {},
   "outputs": [
    {
     "name": "stdout",
     "output_type": "stream",
     "text": [
      "inverse of 'lo$oogg': googol\n",
      "inverse of 'g$actc': acctg\n"
     ]
    }
   ],
   "source": [
    "print(\"inverse of 'lo$oogg':\",bwt.bwInverse(\"lo$oogg\"))\n",
    "print(\"inverse of 'g$actc':\",bwt.bwInverse(\"g$actc\"))"
   ]
  },
  {
   "cell_type": "markdown",
   "metadata": {},
   "source": [
    "Now we test the functions on real biologically relevant sequences. As an example we take the nucleotide sequence of ATP synthase CF1 alpha subunit (NC_035838.1, REGION: 9728..11251) and protein sequence of RNA polymerase beta subunit (YP_009425274.1) from the _Asplenium prolongatum_ chloroplast genome. We use `%%timeit` to get mean and standard deviation over 100 runs 7 times."
   ]
  },
  {
   "cell_type": "code",
   "execution_count": 2,
   "metadata": {},
   "outputs": [
    {
     "name": "stdout",
     "output_type": "stream",
     "text": [
      "Computing transform and inverse on a sequence of 1524 nucleotides (4 letters)\n"
     ]
    }
   ],
   "source": [
    "nt = \"TCACTTACCTTGCAGTAAGAAAATCTCTGTTGATTCTTCAATTGCTTCCTTTAAAAGCGTTTCCGCTTGTTCCGTAAACACTTTTGTGGAACGAGTAATTTCACCAAATTGAGGTTTATTGGTTATTACATACTCACGTAGCTGAATCAAGAATCGTTTGACTTGTTCAACTTCTGATACATCTAGATATCCGTTGACCCCGGTGTAAGTAGTAGCCACCTGTTCCTCTACCGATAATGGAGCTGACTGAGACTGCTTAAGCAGCTCACGCAATCGCTGACCCCTAGCTAATTGATTCTGGGTAGTCTTATCAAGATCGGAGGCAAATTGGGCGAAAGCTTCCAATTCCGCGAATTGGGCTAATTCCAATTTTAATTTGCCAGCCACCTGTTTCATAGCTTTTGTTTGAGCCGCGGAGCCCACTCTAGATACCGAAATACCCACATTTATAGCTGGTCGGATCCCGGCGTTAAATAAATCTGCTGATAAAAAGATTTAGCCATCGGTAATGGAAATAACATTGGTTGGAATGTAAGCTGAGACATCACCCGCTTGAGTCTCAACGATAGGTAAAGCTGTCATGCTACCTTCTCCCAATTGAAGACTTAACTTAGCTGCTCTCTCTAAGAGACGGGAGTGTAGATAAAAAACATCTCCTGGATATGCTTCTCGTCCAGGCGGTCTCCTTAATAGCAGGGACATCTGCCGATAAGCTTGGGCTTGTTTAGATAGGTCATCATGAATAATCGGGGTATGCTGCTTGCGATACATGAAGTATTCAGCTAAAGCTGCTCCCGTGTAGGGAGCAAGATATTGCAGAGTGGCTGGAGAGTTAGCGGTCTCTGACACCACAATTGTATATTCCATGGCACCGCGATCTTGAAAAGTATCTACTACCTGAGCCACAGAAGAAGCTTTCTGACCGATGGCTACGTAAACACATGTAACATTCTGACCTTTCTGATTCAAAATTGTATCTGTAGCTACTGCTGTTTTACCAGTCTGCCTGTCGCCAATAATTAGTTCTCGTTGACCGCGACCTATAGGAATCATGGAATCAATAGCAATAAGGCCTGTTTGTAAAGGTTCGTATACCGAGCGTCTCGAAATAATACCTGGAGCGGGTGATTCAATCAACCTAAACTCAGAAGCTGGTATTTGACCTTTCCCGTCGATAGGTTGCGCCAAAGCATTTACAACACGACCCAAAAACGAGTCACTGACTGGTACTTGAGCAATCTTTCCTGTCGCTTTTACAGAACTACCCTCTTGTATGGTCAAACCATCACCCGTCAGTACGGCCCCAACATTATCCGATTCCAGATTGAGGGCGATTCCTACTGTACCATCCTCAGATTCCACCGATTCGCCAGCCATTACTTTGTTGAGTCCATGAATACGAGCAATCCCATCTCCGACTTAAAGTACGGTACCTATGTTAACAACTTTTACTTCTGAGACATACCCCTCAATTTGCTTACGAATAATGTTACTAATTTCGTCGGGTCGGATGTTTATTACCAT\"\n",
    "m = len(nt)\n",
    "n_nt = len(np.unique(list(nt)))\n",
    "print(\"Computing transform and inverse on a sequence of {} nucleotides ({} letters)\".format(m, n_nt))"
   ]
  },
  {
   "cell_type": "code",
   "execution_count": 3,
   "metadata": {},
   "outputs": [
    {
     "name": "stdout",
     "output_type": "stream",
     "text": [
      "11.5 ms ± 899 µs per loop (mean ± std. dev. of 7 runs, 100 loops each)\n"
     ]
    }
   ],
   "source": [
    "%%timeit -n 100\n",
    "assert bwt.bwInverse(bwt.bwTransform(nt)) == nt"
   ]
  },
  {
   "cell_type": "code",
   "execution_count": 4,
   "metadata": {},
   "outputs": [
    {
     "name": "stdout",
     "output_type": "stream",
     "text": [
      "Computing transform and inverse on a sequence of 1425 amino acids (20 letters)\n"
     ]
    }
   ],
   "source": [
    "aa=\"MTDQIEFPFYNKAIDRVAMRRLIGKLVVCFGIASTTNILDQVKVLGFQQATEASVSLGIDDLLAVPSRGWLVQDAEKQGYVSEQNYRYGSLHAVEKLRQSIEAWYATSECSKREMNSNFRMIDPLNPVHMMSFSGARGSISQVHQLLGMRGLMSDPRGQVIDLPIRKNLREGLSLTEYIISCYGARKGVVDTAVRTSDAGYLTRRLVEVVQHITIRKKDCETTKNVALLNINREKQESVRTISYQKLVGRVLADNVYWDARCIATRNQDISDGLAGNSVASAQPIYVRSPLTRKSIFRICQRRYGRSLAHHDLVELGEAVGIIAGQSVGEPGTQLTSRTFHTGGVFTGDIAEYLRIPFNGLIHFDDKEVHPTRTRHGHPAWMRQNELSVSIKSCSDIFNFVVPAQSLLMIRNGQYVEAQQIIAEVRAKEFPLKERIEKAIYSNLKGEIHSSKFVWHVRDCMGRPIRVVRETGHIRILSGAYSDSDKNGLFHKDRDRVNLKSNFIEKKCDYFGRRENNPVKSKGSPKGIREFGSYPFYLLNGSKTPASNYILSNVKVGRSERPEFVSLLLERQQTKLKTSRFANIDVQLNSILDESDILAINKNIKYQTGVSGILRYGTIEVEPINKSRFFFGGKAEELNFGSWYKVVRRGNFFLIPEEVYTVSEHLSPILVTNNTIAEEGTQLTTAISSKVGGLIQIEKTLANSITIRVLPGYICNPGKATSILTQDFNLIGLGNRTLNRIETKGWVYLQSVALYGRRKTSVLVRPVVKYDVSSHSLGQEIFCVDKPKTQKHAKAQTLLCISHKNGEQTKMMNHAPIQLIQTFLMARRRGNSHKTSLTEKRHLSLINVGINKTLTTFIQINSVVFTPEQKLEINKVSQDLVPIDEPSLTQVDLSNDRNDLVPKYHSITVHSVPEHGAYFLALSPFNIYRNHPLDNSRNNKYEEVIQKHLPRSESDISVPDGSPKKSSLSPKYRSFLQKSLSLKIRDRPVKSRRSRFPPSCPLDFEEVGLLGTPYGICFFSTTLDLGMSRRASLFRNYSMDYLTNTTEHRCWYFIDETKLKMRCPMNPFFTTILVKKPIHLTPKFFNWRNQLIDLGLLISESRSICESNAFTQSGQIVTIHQNYLLVRIGKTLLATRGATPHKISGDTVEEGDTLLTLPYDRLKSGDITQGLPKVEQLPESRPIASIPARIKDLFGRWNRGITKLIGKLWSHFLSAETSMERCQLLLTNEIRKVYESQGVQISERHLEIIIWQLTSRVIASEDGIANVFFPGELVELSQAERMNRVLERPVFYEPIILGMTRASLNTTSFLSEASLQETTRVLAKAALRGRIDRLKGLKENVILGDIVPVGTSSPEIVCQLEVNKQKDFHFAMNGDKKNLNWQAKYALCDYCEKQNIHLIRIIHEGLSRQLLPINPDLKKGLRNIK\"\n",
    "n=len(aa)\n",
    "n_aa=len(np.unique(list(aa)))\n",
    "print(\"Computing transform and inverse on a sequence of {} amino acids ({} letters)\".format(n,n_aa))"
   ]
  },
  {
   "cell_type": "code",
   "execution_count": 5,
   "metadata": {},
   "outputs": [
    {
     "name": "stdout",
     "output_type": "stream",
     "text": [
      "9.47 ms ± 585 µs per loop (mean ± std. dev. of 7 runs, 100 loops each)\n"
     ]
    }
   ],
   "source": [
    "%%timeit -n 100\n",
    "assert bwt.bwInverse(bwt.bwTransform(aa)) == aa"
   ]
  },
  {
   "cell_type": "markdown",
   "metadata": {},
   "source": [
    "Both functions are computed in a reasonable time."
   ]
  },
  {
   "cell_type": "markdown",
   "metadata": {},
   "source": [
    "The functions react to to incorrect input by raising exceptions, which you can test in the code block below."
   ]
  },
  {
   "cell_type": "code",
   "execution_count": 8,
   "metadata": {},
   "outputs": [
    {
     "name": "stdout",
     "output_type": "stream",
     "text": [
      "trying to convert 5\n",
      "<class 'TypeError'> The input is not a string \n",
      "\n",
      "trying to convert lo$oogg\n",
      "<class 'paleni_bwt.TerminatorError'> The input cannot contain the terminator character ('$'). Please provide another string. \n",
      "\n",
      "trying to convert googol\n",
      "<class 'paleni_bwt.TerminatorError'> The input does not contain the terminator character ('$'). Please provide a coded string. \n",
      "\n",
      "trying to convert lo$oogg$\n",
      "<class 'paleni_bwt.TerminatorError'> The terminator ('$') cannot be present more than once in the coded string. Please provide another string. \n",
      "\n"
     ]
    }
   ],
   "source": [
    "def tests(x, fun, err_type):\n",
    "    try:\n",
    "        print(\"trying to convert\",x)\n",
    "        fun(x)\n",
    "    except err_type as e:\n",
    "        print(type(e),e,\"\\n\")\n",
    "        \n",
    "tests(5, bwt.bwTransform, TypeError)\n",
    "tests(\"lo$oogg\", bwt.bwTransform, bwt.TerminatorError)\n",
    "tests(\"googol\", bwt.bwInverse, bwt.TerminatorError)\n",
    "tests(\"lo$oogg$\", bwt.bwInverse, bwt.TerminatorError)\n"
   ]
  },
  {
   "cell_type": "markdown",
   "metadata": {},
   "source": [
    "## References  \n",
    "<br/>\n",
    "<div id=\"1\">[1] Burrows, M. & Wheeler, D.J. A Block-Sorting Lossless \n",
    "    Data Compression Algorithm (1994). Technical Report, 124, Digital Equipment \n",
    "    Corporation.  </div>\n",
    "<div id=\"2\">[2] Li H, Durbin R. Fast and accurate short read alignment with Burrows-Wheeler transform. Bioinformatics. 2009;25(14):1754-1760. doi:10.1093/bioinformatics/btp324</a><div>\n",
    "    \n",
    "http://guanine.evolbio.mpg.de/bwt/bwtDoc.pdf for another explanation of the decoding algorithm"
   ]
  },
  {
   "cell_type": "code",
   "execution_count": null,
   "metadata": {},
   "outputs": [],
   "source": []
  }
 ],
 "metadata": {
  "kernelspec": {
   "display_name": "Python 3",
   "language": "python",
   "name": "python3"
  },
  "language_info": {
   "codemirror_mode": {
    "name": "ipython",
    "version": 3
   },
   "file_extension": ".py",
   "mimetype": "text/x-python",
   "name": "python",
   "nbconvert_exporter": "python",
   "pygments_lexer": "ipython3",
   "version": "3.7.6"
  }
 },
 "nbformat": 4,
 "nbformat_minor": 4
}
